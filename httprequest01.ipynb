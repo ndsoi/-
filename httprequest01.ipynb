{
 "cells": [
  {
   "cell_type": "code",
   "execution_count": 1,
   "metadata": {
    "collapsed": false,
    "execution": {
     "iopub.execute_input": "2024-02-14T05:42:39.018267Z",
     "iopub.status.busy": "2024-02-14T05:42:39.017938Z",
     "iopub.status.idle": "2024-02-14T05:42:39.373603Z",
     "shell.execute_reply": "2024-02-14T05:42:39.372774Z",
     "shell.execute_reply.started": "2024-02-14T05:42:39.018244Z"
    },
    "jupyter": {
     "outputs_hidden": false
    },
    "scrolled": true
   },
   "outputs": [],
   "source": [
    "# 查看当前挂载的数据集目录, 该目录下的变更重启环境后会自动还原\n",
    "# View dataset directory. \n",
    "# This directory will be recovered automatically after resetting environment. \n",
    "!ls /home/aistudio/data"
   ]
  },
  {
   "cell_type": "code",
   "execution_count": 2,
   "metadata": {
    "collapsed": false,
    "execution": {
     "iopub.execute_input": "2024-02-14T05:42:39.376103Z",
     "iopub.status.busy": "2024-02-14T05:42:39.375571Z",
     "iopub.status.idle": "2024-02-14T05:42:39.731236Z",
     "shell.execute_reply": "2024-02-14T05:42:39.730241Z",
     "shell.execute_reply.started": "2024-02-14T05:42:39.376075Z"
    },
    "jupyter": {
     "outputs_hidden": false
    },
    "scrolled": true
   },
   "outputs": [],
   "source": [
    "# 查看工作区文件, 该目录下的变更将会持久保存. 请及时清理不必要的文件, 避免加载过慢.\n",
    "# View personal work directory. \n",
    "# All changes under this directory will be kept even after reset. \n",
    "# Please clean unnecessary files in time to speed up environment loading. \n",
    "!ls /home/aistudio/work"
   ]
  },
  {
   "cell_type": "code",
   "execution_count": 3,
   "metadata": {
    "collapsed": false,
    "execution": {
     "iopub.execute_input": "2024-02-14T05:42:39.732922Z",
     "iopub.status.busy": "2024-02-14T05:42:39.732526Z",
     "iopub.status.idle": "2024-02-14T05:42:42.945370Z",
     "shell.execute_reply": "2024-02-14T05:42:42.944366Z",
     "shell.execute_reply.started": "2024-02-14T05:42:39.732883Z"
    },
    "jupyter": {
     "outputs_hidden": false
    },
    "scrolled": true
   },
   "outputs": [
    {
     "name": "stdout",
     "output_type": "stream",
     "text": [
      "Looking in indexes: https://mirror.baidu.com/pypi/simple/, https://mirrors.aliyun.com/pypi/simple/\r\n",
      "Collecting beautifulsoup4\r\n",
      "  Downloading https://mirrors.aliyun.com/pypi/packages/b1/fe/e8c672695b37eecc5cbf43e1d0638d88d66ba3a44c4d321c796f4e59167f/beautifulsoup4-4.12.3-py3-none-any.whl (147 kB)\r\n",
      "\u001b[2K     \u001b[90m━━━━━━━━━━━━━━━━━━━━━━━━━━━━━━━━━━━━━━━\u001b[0m \u001b[32m147.9/147.9 kB\u001b[0m \u001b[31m3.4 MB/s\u001b[0m eta \u001b[36m0:00:00\u001b[0ma \u001b[36m0:00:01\u001b[0m\r\n",
      "\u001b[?25hCollecting soupsieve>1.2 (from beautifulsoup4)\r\n",
      "  Downloading https://mirrors.aliyun.com/pypi/packages/4c/f3/038b302fdfbe3be7da016777069f26ceefe11a681055ea1f7817546508e3/soupsieve-2.5-py3-none-any.whl (36 kB)\r\n",
      "Installing collected packages: soupsieve, beautifulsoup4\r\n",
      "Successfully installed beautifulsoup4-4.12.3 soupsieve-2.5\r\n"
     ]
    }
   ],
   "source": [
    "# 如果需要进行持久化安装, 需要使用持久化路径, 如下方代码示例:\n",
    "# If a persistence installation is required, \n",
    "# you need to use the persistence path as the following: \n",
    "!mkdir /home/aistudio/external-libraries\n",
    "!pip install beautifulsoup4 -t /home/aistudio/external-libraries"
   ]
  },
  {
   "cell_type": "code",
   "execution_count": 4,
   "metadata": {
    "collapsed": false,
    "execution": {
     "iopub.execute_input": "2024-02-14T05:42:42.947261Z",
     "iopub.status.busy": "2024-02-14T05:42:42.946756Z",
     "iopub.status.idle": "2024-02-14T05:42:42.951716Z",
     "shell.execute_reply": "2024-02-14T05:42:42.951046Z",
     "shell.execute_reply.started": "2024-02-14T05:42:42.947231Z"
    },
    "jupyter": {
     "outputs_hidden": false
    },
    "scrolled": true
   },
   "outputs": [],
   "source": [
    "# 同时添加如下代码, 这样每次环境(kernel)启动的时候只要运行下方代码即可: \n",
    "# Also add the following code, \n",
    "# so that every time the environment (kernel) starts, \n",
    "# just run the following code: \n",
    "import sys \n",
    "sys.path.append('/home/aistudio/external-libraries')"
   ]
  },
  {
   "cell_type": "code",
   "execution_count": 5,
   "metadata": {
    "execution": {
     "iopub.execute_input": "2024-02-14T05:42:42.953147Z",
     "iopub.status.busy": "2024-02-14T05:42:42.952575Z",
     "iopub.status.idle": "2024-02-14T05:42:43.001447Z",
     "shell.execute_reply": "2024-02-14T05:42:43.000767Z",
     "shell.execute_reply.started": "2024-02-14T05:42:42.953122Z"
    },
    "scrolled": true
   },
   "outputs": [],
   "source": [
    "import re\r\n",
    "import requests"
   ]
  },
  {
   "cell_type": "code",
   "execution_count": 6,
   "metadata": {
    "execution": {
     "iopub.execute_input": "2024-02-14T05:42:43.002930Z",
     "iopub.status.busy": "2024-02-14T05:42:43.002281Z",
     "iopub.status.idle": "2024-02-14T05:42:44.108546Z",
     "shell.execute_reply": "2024-02-14T05:42:44.107837Z",
     "shell.execute_reply.started": "2024-02-14T05:42:43.002906Z"
    },
    "scrolled": true
   },
   "outputs": [
    {
     "name": "stdout",
     "output_type": "stream",
     "text": [
      "<!DOCTYPE html>\r\n",
      "<html lang=\"en\">\r\n",
      "<head>\r\n",
      "<meta charset=\"UTF-8\">\r\n",
      "<title>GET 测试</title>\r\n",
      "</head>\r\n",
      "<body>\r\n",
      "<p>如果你可以看到这一段话，那么说明你已经知道如何通过</p>\r\n",
      "<p>requests获得GET方式网页的源代码。</p>\r\n",
      "</body>\r\n",
      "</html>\r\n"
     ]
    }
   ],
   "source": [
    "html = requests.get('http://exercise.kingname.info/exercise_requests_get.html').content.decode()\r\n",
    "print(html)\r\n"
   ]
  },
  {
   "cell_type": "code",
   "execution_count": 7,
   "metadata": {
    "execution": {
     "iopub.execute_input": "2024-02-14T05:42:44.110251Z",
     "iopub.status.busy": "2024-02-14T05:42:44.109559Z",
     "iopub.status.idle": "2024-02-14T05:42:45.924761Z",
     "shell.execute_reply": "2024-02-14T05:42:45.923990Z",
     "shell.execute_reply.started": "2024-02-14T05:42:44.110223Z"
    },
    "scrolled": true
   },
   "outputs": [
    {
     "name": "stdout",
     "output_type": "stream",
     "text": [
      "<!DOCTYPE html>\r\n",
      "<html lang=\"en\">\r\n",
      "<head>\r\n",
      "<meta charset=\"UTF-8\">\r\n",
      "<title>POST 测试</title>\r\n",
      "</head>\r\n",
      "<body>\r\n",
      "<p>你虽然使用了POST方式提交数据，但是你并没有把用户名name和密码password提交上来。</p>\r\n",
      "</body>\r\n",
      "</html>\r\n",
      "---------------------------\r\n",
      "<!DOCTYPE html>\r\n",
      "<html lang=\"en\">\r\n",
      "<head>\r\n",
      "<meta charset=\"UTF-8\">\r\n",
      "<title>POST 测试</title>\r\n",
      "</head>\r\n",
      "<body>\r\n",
      "<p>恭喜恭喜，你现在使用的是POST方式访问本页，通过Formdata提交数据，你提交的数据为：</p>\r\n",
      "<p>Name: value1</p>\r\n",
      "<p>Password: value2</p>\r\n",
      "</body>\r\n",
      "</html>\r\n"
     ]
    }
   ],
   "source": [
    "# 用post方式\r\n",
    "data = {'key1':'value1',\r\n",
    "        'key2':'value2'}\r\n",
    "html_formdata = requests.post('http://exercise.kingname.info/exercise_requests_post',data=data).content.decode()\r\n",
    "print(html_formdata)\r\n",
    "print('---------------------------')\r\n",
    "data = {'name':'value1',\r\n",
    "        'password':'value2'}\r\n",
    "html_formdata = requests.post('http://exercise.kingname.info/exercise_requests_post',data=data).content.decode()\r\n",
    "print(html_formdata)\r\n",
    "\r\n",
    "# 如果需要json格式，则在post里面变成 json=data"
   ]
  },
  {
   "cell_type": "code",
   "execution_count": 8,
   "metadata": {
    "execution": {
     "iopub.execute_input": "2024-02-14T05:42:45.926134Z",
     "iopub.status.busy": "2024-02-14T05:42:45.925792Z",
     "iopub.status.idle": "2024-02-14T05:42:47.853664Z",
     "shell.execute_reply": "2024-02-14T05:42:47.852644Z",
     "shell.execute_reply.started": "2024-02-14T05:42:45.926108Z"
    },
    "scrolled": true,
    "tags": []
   },
   "outputs": [
    {
     "name": "stdout",
     "output_type": "stream",
     "text": [
      "页面标题为:GET 测试\r\n",
      "页面正文为:\r\n",
      "如果你可以看到这一段话，那么说明你已经知道如何通过\r\n",
      "requests获得GET方式网页的源代码。\r\n"
     ]
    }
   ],
   "source": [
    "# 提取页面源代码\r\n",
    "html = requests.get('http://exercise.kingname.info/exercise_requests_get.html').content.decode()\r\n",
    "\r\n",
    "# 提取标题\r\n",
    "title = re.search('<title>(.*?)</title>', html, re.S).group(1)\r\n",
    "\r\n",
    "\r\n",
    "# 提取正文\r\n",
    "body = re.findall('<body>(.*?)</body>',html,re.S)[0]\r\n",
    "body = re.findall('<p>(.*?)<', body, re.S)\r\n",
    "result = '\\n'.join(body)\r\n",
    "\r\n",
    "print(f'页面标题为:{title}')\r\n",
    "print(f'页面正文为:\\n{result}')\r\n",
    "    \r\n"
   ]
  },
  {
   "cell_type": "markdown",
   "metadata": {},
   "source": [
    "请点击[此处](https://ai.baidu.com/docs#/AIStudio_Project_Notebook/a38e5576)查看本环境基本用法.  <br>\n",
    "Please click [here ](https://ai.baidu.com/docs#/AIStudio_Project_Notebook/a38e5576) for more detailed instructions. "
   ]
  }
 ],
 "metadata": {
  "kernelspec": {
   "display_name": "Python 3",
   "language": "python",
   "name": "py35-paddle1.2.0"
  },
  "language_info": {
   "codemirror_mode": {
    "name": "ipython",
    "version": 3
   },
   "file_extension": ".py",
   "mimetype": "text/x-python",
   "name": "python",
   "nbconvert_exporter": "python",
   "pygments_lexer": "ipython3",
   "version": "3.10.10"
  }
 },
 "nbformat": 4,
 "nbformat_minor": 4
}
